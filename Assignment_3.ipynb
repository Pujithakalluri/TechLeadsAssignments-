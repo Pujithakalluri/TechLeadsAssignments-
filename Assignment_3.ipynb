{
  "nbformat": 4,
  "nbformat_minor": 0,
  "metadata": {
    "colab": {
      "provenance": [],
      "collapsed_sections": [
        "-zawQ6Kq2F4N"
      ],
      "include_colab_link": true
    },
    "kernelspec": {
      "name": "python3",
      "display_name": "Python 3"
    },
    "language_info": {
      "name": "python"
    }
  },
  "cells": [
    {
      "cell_type": "markdown",
      "metadata": {
        "id": "view-in-github",
        "colab_type": "text"
      },
      "source": [
        "<a href=\"https://colab.research.google.com/github/Pujithakalluri/TechLeadsAssignments-/blob/main/Assignment_3.ipynb\" target=\"_parent\"><img src=\"https://colab.research.google.com/assets/colab-badge.svg\" alt=\"Open In Colab\"/></a>"
      ]
    },
    {
      "cell_type": "markdown",
      "source": [
        "*STRINGS*"
      ],
      "metadata": {
        "id": "CM6bFpU1tDbn"
      }
    },
    {
      "cell_type": "markdown",
      "source": [
        "Strings in python are surrounded by either single quotation marks, or double quotation marks.\n",
        "\n",
        "can also be (''' hi ''') (\"\"\" hi \"\"\")"
      ],
      "metadata": {
        "id": "ANR-JsQYtGgH"
      }
    },
    {
      "cell_type": "code",
      "source": [
        "a = \"hi Yassu\"\n",
        "print(a)"
      ],
      "metadata": {
        "colab": {
          "base_uri": "https://localhost:8080/"
        },
        "id": "wwpQ7bRKtdHF",
        "outputId": "377e9e99-a3e0-401b-d15b-8f9eeb13d3e7"
      },
      "execution_count": 1,
      "outputs": [
        {
          "output_type": "stream",
          "name": "stdout",
          "text": [
            "hi Yassu\n"
          ]
        }
      ]
    },
    {
      "cell_type": "code",
      "source": [
        "a = \"Hello, Yasaswini!\"\n",
        "print(a[1])   #in arrays"
      ],
      "metadata": {
        "colab": {
          "base_uri": "https://localhost:8080/"
        },
        "id": "kBp70Fbhtg4D",
        "outputId": "483cf7f1-c63e-4925-9295-a000eee07b5e"
      },
      "execution_count": 2,
      "outputs": [
        {
          "output_type": "stream",
          "name": "stdout",
          "text": [
            "e\n"
          ]
        }
      ]
    },
    {
      "cell_type": "code",
      "source": [
        "a = \"Hello, Yasaswini!\"\n",
        "print(len(a))   #lenght if the string"
      ],
      "metadata": {
        "colab": {
          "base_uri": "https://localhost:8080/"
        },
        "id": "VfsslDC_tlpk",
        "outputId": "2cfd480e-9942-4e49-deba-4767dbeee25a"
      },
      "execution_count": 3,
      "outputs": [
        {
          "output_type": "stream",
          "name": "stdout",
          "text": [
            "17\n"
          ]
        }
      ]
    },
    {
      "cell_type": "code",
      "source": [
        "a = \"I am the best!\"\n",
        "print(\"best\" in a)          #checking a string"
      ],
      "metadata": {
        "colab": {
          "base_uri": "https://localhost:8080/"
        },
        "id": "8zaOBq7gtrZ_",
        "outputId": "d435cbf6-7615-4f0d-b917-52d13af76135"
      },
      "execution_count": 4,
      "outputs": [
        {
          "output_type": "stream",
          "name": "stdout",
          "text": [
            "True\n"
          ]
        }
      ]
    },
    {
      "cell_type": "code",
      "source": [
        "a = \"Hello,Yasaswini!\"\n",
        "print(a[1])           #2nd item of the list\n",
        "print(a[-1])          #refers to the last items\n",
        "print(a[2:3])         #Range of indexes\n",
        "print(a[:2])\n",
        "print(a[1:])\n",
        "print(a[-3:-1])"
      ],
      "metadata": {
        "colab": {
          "base_uri": "https://localhost:8080/"
        },
        "id": "Baq4CrpbuNsg",
        "outputId": "2f555c5b-db29-4cb3-826e-078080fbff7e"
      },
      "execution_count": 5,
      "outputs": [
        {
          "output_type": "stream",
          "name": "stdout",
          "text": [
            "e\n",
            "!\n",
            "l\n",
            "He\n",
            "ello,Yasaswini!\n",
            "ni\n"
          ]
        }
      ]
    },
    {
      "cell_type": "markdown",
      "source": [
        "Modify Strings"
      ],
      "metadata": {
        "id": "LfJ8YJrsvHY_"
      }
    },
    {
      "cell_type": "code",
      "source": [
        "a = \"Hello,Yasaswini!\"\n",
        "print(a.upper())          #uppercase\n",
        "b = \"Hello,Yasaswini!\"\n",
        "print(b.lower())          #lowercase\n",
        "c = \"Hello,Yasaswini!\"\n",
        "print(c.strip())          #removes white space\n",
        "d = \"Hello,Yasaswini!\"\n",
        "print(d.replace(\"i\", \"a\"))         #replaces a string with another string\n",
        "e = \"Hello,Yasaswini!\"\n",
        "print(e.split(\",\"))       #splits the string into substrings"
      ],
      "metadata": {
        "colab": {
          "base_uri": "https://localhost:8080/"
        },
        "id": "qnpjnsmuvMYU",
        "outputId": "ef73e431-07af-40bd-aa65-98655f7d659f"
      },
      "execution_count": 6,
      "outputs": [
        {
          "output_type": "stream",
          "name": "stdout",
          "text": [
            "HELLO,YASASWINI!\n",
            "hello,yasaswini!\n",
            "Hello,Yasaswini!\n",
            "Hello,Yasaswana!\n",
            "['Hello', 'Yasaswini!']\n"
          ]
        }
      ]
    },
    {
      "cell_type": "code",
      "source": [
        "family = \" I LOVE YOU DADDY,AMMA,TAMBI. \"\n",
        "i = int(input(\"repeat:\"))\n",
        "print(family*i)"
      ],
      "metadata": {
        "id": "LtlVi8hJvTU1"
      },
      "execution_count": null,
      "outputs": []
    },
    {
      "cell_type": "code",
      "source": [
        "value = \"yasaswini\"\n",
        "print(\"value: \",value)\n",
        "new_value = input(\"assign new value: \")\n",
        "print(\"new value: \",new_value)                       #assigning new values"
      ],
      "metadata": {
        "id": "qH3lFOQSyh37"
      },
      "execution_count": null,
      "outputs": []
    },
    {
      "cell_type": "code",
      "source": [
        "for x in \"Yasaswini\" :\n",
        "  print(x)          #loop through a string"
      ],
      "metadata": {
        "id": "Wx8JgVH0yle5"
      },
      "execution_count": null,
      "outputs": []
    },
    {
      "cell_type": "code",
      "source": [
        "a = \"Srinivas\"\n",
        "b = \"Laxmi\"\n",
        "c = \"Yasaswini\"\n",
        "d = \"Dhanush Kumar\"\n",
        "print(a+\" \"+b+\" \"+c+\" \"+d)     #string concatanation"
      ],
      "metadata": {
        "id": "0BWql-Fv1Pcd"
      },
      "execution_count": null,
      "outputs": []
    },
    {
      "cell_type": "markdown",
      "source": [
        "# String Methods"
      ],
      "metadata": {
        "id": "7igFD-DO2RH3"
      }
    },
    {
      "cell_type": "code",
      "source": [
        "a = \"I am Studing in Kiet Engineering College\"\n",
        "print(a.capitalize())          #Converts the first character to upper case\n",
        "print(a.casefold())          #Converts string into lower case\n",
        "print(a.encode())          #Returns an encoded version of the string\n",
        "print(a.expandtabs())        #Sets the tab size of the string\n",
        "print(a.center(6))          #Returns a centered string\n",
        "b = a.count(\"Kiet\")\n",
        "print(b)          #Returns the number of times a specified value occurs in a string\n",
        "b = a.endswith(\"College\")\n",
        "print(b)          #Returns true if the string ends with the specified value\n",
        "b = a.endswith(\"I\")\n",
        "print(b)          #Returns true if the string starts with the specified value\n",
        "b = a.find(\"College\")\n",
        "print(b)        #Searches the string for a specified value and returns the position of where it was found\n",
        "b = a.find(\"College\")\n",
        "print(b)          #Searches the string for a specified value and returns the position of where it was found\n",
        "print(a.isalnum())        #Returns True if all characters in the string are alphanumeric\n",
        "print(a.swapcase())          #Returns the string in upper to lower & lower to upper"
      ],
      "metadata": {
        "id": "bsufydsx2c5H"
      },
      "execution_count": null,
      "outputs": []
    },
    {
      "cell_type": "code",
      "source": [
        "a = \"04092003\"\n",
        "print(a.isascii())          #Converts string into lower case\n",
        "print(a.isdecimal())          #Returns an encoded version of the string\n",
        "print(a.isdigit())        #Sets the tab size of the string\n",
        "print(a.isidentifier())          #Returns a centered string\n",
        "print(a.isprintable())        #checks wheater the string will be printed or not\n",
        "print(a.isidentifier())      #checks wheater the string is identifier or not"
      ],
      "metadata": {
        "id": "Akr50P1G8Rp_"
      },
      "execution_count": null,
      "outputs": []
    },
    {
      "cell_type": "code",
      "source": [
        "a = \"yasaswini\"\n",
        "print(a.isalpha())           #checks wheater the string is alphabet or not\n",
        "print(a.islower())            #checks wheater the string is lower or not\n",
        "print(a.upper())            #results the string in upper"
      ],
      "metadata": {
        "id": "7fQMqEGJDi6H"
      },
      "execution_count": null,
      "outputs": []
    },
    {
      "cell_type": "code",
      "source": [
        "a = \" HELLO , I AM YASASWINI \"\n",
        "print(a.istitle())          #checks wheater the string is title or not\n",
        "print(a.isupper())          #checks wheater the string is upper or not\n",
        "print(a.lower())            #results the string in lower\n",
        "print(a.rsplit(\", \"))     #returns list"
      ],
      "metadata": {
        "id": "Sby_P1D1EsXW"
      },
      "execution_count": null,
      "outputs": []
    },
    {
      "cell_type": "code",
      "source": [
        "a = \"  \"          #ex: \"   \" sould be white space\n",
        "print(a.isspace())"
      ],
      "metadata": {
        "id": "KTQFQCT1FLsF"
      },
      "execution_count": null,
      "outputs": []
    },
    {
      "cell_type": "code",
      "source": [
        "family = (\"yassu\",\"laxmi\",\"srinivas\")\n",
        "print(\",\".join(family))           #joins the string with the given ...."
      ],
      "metadata": {
        "id": "S9vUh9-tFVTD"
      },
      "execution_count": null,
      "outputs": []
    },
    {
      "cell_type": "code",
      "source": [
        "a = \"Yasaswini\"\n",
        "b = a.ljust(20)                 #20 whitespaces will be provied\n",
        "print(b,\"Is in Kiet college\")\n",
        "x = b.strip()                   #joins the string\n",
        "print(\"I am \",x,\"is in kiet college\")"
      ],
      "metadata": {
        "id": "CFQtRMfZF8N7"
      },
      "execution_count": null,
      "outputs": []
    },
    {
      "cell_type": "code",
      "source": [
        "a = \"     Yasaswini     \"\n",
        "b = a.lstrip()                   #right side space will be removed\n",
        "print(\"I am \",b,\"is in kiet college\")"
      ],
      "metadata": {
        "id": "IsxmvpAYGzEK"
      },
      "execution_count": null,
      "outputs": []
    },
    {
      "cell_type": "code",
      "source": [
        "a = \" HELLO,\\nI AM YASASWINI \"\n",
        "print(a.splitlines())     #breaks & returns the string"
      ],
      "metadata": {
        "id": "AcBVOj4kJlS-"
      },
      "execution_count": null,
      "outputs": []
    },
    {
      "cell_type": "markdown",
      "source": [
        "# String Formating"
      ],
      "metadata": {
        "id": "-zawQ6Kq2F4N"
      }
    },
    {
      "cell_type": "markdown",
      "source": [
        "\n",
        "\n",
        "we can combine strings and numbers by using the format() method!\n",
        "\n",
        "The format() method takes the passed arguments, formats them, and places them in the string where the placeholders {} are...**bold text**"
      ],
      "metadata": {
        "id": "yqF5zoZU1ket"
      }
    },
    {
      "cell_type": "code",
      "source": [
        "age = 20\n",
        "txt = \"I am Yasaswini, and I am {}\"\n",
        "print(txt.format(age))"
      ],
      "metadata": {
        "id": "xyvPeV861ooJ"
      },
      "execution_count": null,
      "outputs": []
    },
    {
      "cell_type": "code",
      "source": [
        "Age = 20\n",
        "DOB = 2023\n",
        "Name = \"Yasaswini\"\n",
        "myorder = \"I am {2} born on {1} now I am {0} years old\"\n",
        "print(myorder.format( Age, DOB,Name))"
      ],
      "metadata": {
        "id": "D-0FdI-U2LMk"
      },
      "execution_count": null,
      "outputs": []
    },
    {
      "cell_type": "markdown",
      "source": [
        "Escape Characters\n",
        "\n",
        "To insert characters that are illegal in a string, use an escape character.\n",
        "\n",
        "An escape character is a backslash \\ followed by the character you want to insert."
      ],
      "metadata": {
        "id": "1nJqT-nb1uRS"
      }
    },
    {
      "cell_type": "code",
      "source": [
        "a = 'I\\'m Yasaswini'             #(\\)is used before (')\n",
        "print(a)\n",
        "b = 'Hello,Yasaswini\\\\(greeting)'  #to need (\\)\n",
        "print(b)\n",
        "c = 'Hello \\n Yasaswini'          #to make line by line\n",
        "print(c)\n",
        "d = 'Hello \\r Yasaswini'          #to remove front characters\n",
        "print(d)\n",
        "e = 'Hello\\tYasaswini'          #to create space\n",
        "print(e)\n",
        "f = 'Hello  \\bYasaswini'          #to remove black space\n",
        "print(f)\n",
        "g = \"\\110\\145\\154\\154\\157\"         #to form a character for its octal value\n",
        "print(g)\n",
        "h = \"\\x48\\x65\\x6c\\x6c\\x6f\"         ##to form a character for its hexa value\n",
        "print(h)"
      ],
      "metadata": {
        "id": "GxoHWdqe1yob"
      },
      "execution_count": null,
      "outputs": []
    }
  ]
}